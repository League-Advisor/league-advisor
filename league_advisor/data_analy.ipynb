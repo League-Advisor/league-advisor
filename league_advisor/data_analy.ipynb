{
 "cells": [
  {
   "cell_type": "code",
   "execution_count": 314,
   "metadata": {},
   "outputs": [
    {
     "name": "stderr",
     "output_type": "stream",
     "text": [
      "/tmp/ipykernel_10895/659853195.py:8: FutureWarning: pandas.io.json.json_normalize is deprecated, use pandas.json_normalize instead\n",
      "  df = json_normalize(data)\n"
     ]
    }
   ],
   "source": [
    "\n",
    "import json\n",
    "import pandas as pd\n",
    "import difflib as diff\n",
    "from pandas.io.json import json_normalize\n",
    "\n",
    "with open('string_assets/filtered_data.json') as f:\n",
    "    data = json.load(f)\n",
    "df = json_normalize(data)\n",
    "df.to_csv('data_analysis.csv')\n"
   ]
  },
  {
   "cell_type": "code",
   "execution_count": 315,
   "metadata": {},
   "outputs": [],
   "source": [
    "user_team = [\"Nami\", \"Ashe\", \"Ryze\", \"Nidalee\", \"Yone\"]\n",
    "enemy_team = [\"Blitzcranck\", \"Aphelios\", \"Syndra\", \"Sejuan\", \"Gnar\"]\n",
    "champion = \"Ashe\"\n",
    "_champion = df[df.values == champion]\n",
    "_win = _champion[_champion.values == True]\n",
    "\n"
   ]
  },
  {
   "cell_type": "code",
   "execution_count": 316,
   "metadata": {},
   "outputs": [],
   "source": [
    "team_1_details = []\n",
    "team_2_details = []\n",
    "winer_data = []\n",
    "for index, row in _win.iterrows():\n",
    "    \n",
    "    team_1_details.append(row[\"team1.composition.champion1\"])\n",
    "    team_1_details.append(row[\"team1.composition.champion2\"])\n",
    "    team_1_details.append(row[\"team1.composition.champion3\"])\n",
    "    team_1_details.append(row[\"team1.composition.champion4\"])\n",
    "    team_1_details.append(row[\"team1.composition.champion5\"])\n",
    "\n",
    "    if row['team1.win'] == True and champion in team_1_details:\n",
    "        winer_data.append(row)\n",
    "       \n",
    "    team_2_details.append(row[\"team2.composition.champion6\"])\n",
    "    team_2_details.append(row[\"team2.composition.champion7\"])\n",
    "    team_2_details.append(row[\"team2.composition.champion8\"])\n",
    "    team_2_details.append(row[\"team2.composition.champion9\"])\n",
    "    team_2_details.append(row[\"team2.composition.champion10\"])\n",
    "    \n",
    "    if row['team2.win'] == True and champion in team_2_details:\n",
    "        winer_data.append(row)\n",
    "        \n",
    "win_df = pd.DataFrame(winer_data)\n",
    "\n"
   ]
  },
  {
   "cell_type": "code",
   "execution_count": 317,
   "metadata": {},
   "outputs": [],
   "source": [
    "team_1_champions_winer = []\n",
    "team_1_enemy_champions = []\n",
    "team_2_champions_winer = []\n",
    "team_2_enemy_champions = []\n",
    "winer_items = []\n",
    "\n",
    "for index, row in win_df.iterrows():\n",
    "    team_1_champions_winer.append(row[\"team1.composition.champion1\"])\n",
    "    team_1_champions_winer.append(row[\"team1.composition.champion2\"])\n",
    "    team_1_champions_winer.append(row[\"team1.composition.champion3\"])\n",
    "    team_1_champions_winer.append(row[\"team1.composition.champion4\"])\n",
    "    team_1_champions_winer.append(row[\"team1.composition.champion5\"])\n",
    "\n",
    "    if row['team1.win'] == True and champion in team_1_champions_winer:\n",
    "        team_1_champions_winer = []\n",
    "        team_1_champions_winer.append(row[\"team1.composition.champion1\"])\n",
    "        team_1_champions_winer.append(row[\"team1.composition.champion2\"])\n",
    "        team_1_champions_winer.append(row[\"team1.composition.champion3\"])\n",
    "        team_1_champions_winer.append(row[\"team1.composition.champion4\"])\n",
    "        team_1_champions_winer.append(row[\"team1.composition.champion5\"])\n",
    "\n",
    "        team_1_enemy_champions.append(row[\"team2.composition.champion6\"])\n",
    "        team_1_enemy_champions.append(row[\"team2.composition.champion7\"])\n",
    "        team_1_enemy_champions.append(row[\"team2.composition.champion8\"])\n",
    "        team_1_enemy_champions.append(row[\"team2.composition.champion9\"])\n",
    "        team_1_enemy_champions.append(row[\"team2.composition.champion10\"])\n",
    "        winer_items.append(team_1_champions_winer)\n",
    "        winer_items.append(team_1_enemy_champions)\n",
    "        team_1_champions_winer = []\n",
    "        team_1_enemy_champions = []\n",
    "#/////////////////////////////////////////////////////////////////////////////\n",
    "    team_2_champions_winer.append(row[\"team2.composition.champion6\"])\n",
    "    team_2_champions_winer.append(row[\"team2.composition.champion7\"])\n",
    "    team_2_champions_winer.append(row[\"team2.composition.champion8\"])\n",
    "    team_2_champions_winer.append(row[\"team2.composition.champion9\"])\n",
    "    team_2_champions_winer.append(row[\"team2.composition.champion10\"])\n",
    "\n",
    "    if row['team2.win'] == True and champion in team_2_champions_winer:\n",
    "        team_2_champions_winer = []\n",
    "        team_2_champions_winer.append(row[\"team2.composition.champion6\"])\n",
    "        team_2_champions_winer.append(row[\"team2.composition.champion7\"])\n",
    "        team_2_champions_winer.append(row[\"team2.composition.champion8\"])\n",
    "        team_2_champions_winer.append(row[\"team2.composition.champion9\"])\n",
    "        team_2_champions_winer.append(row[\"team2.composition.champion10\"])\n",
    "\n",
    "        team_2_enemy_champions.append(row[\"team1.composition.champion1\"])\n",
    "        team_2_enemy_champions.append(row[\"team1.composition.champion2\"])\n",
    "        team_2_enemy_champions.append(row[\"team1.composition.champion3\"])\n",
    "        team_2_enemy_champions.append(row[\"team1.composition.champion4\"])\n",
    "        team_2_enemy_champions.append(row[\"team1.composition.champion5\"])\n",
    "        winer_items.append(team_2_champions_winer)\n",
    "        winer_items.append(team_2_enemy_champions)\n",
    "        team_2_champions_winer = []\n",
    "        team_2_enemy_champions = []\n"
   ]
  },
  {
   "cell_type": "code",
   "execution_count": 318,
   "metadata": {},
   "outputs": [],
   "source": [
    "# differance_ratio_1 = 0\n",
    "# differance_ratio_2 = 0\n",
    "# final_differance = 0.75\n",
    "# for i in range(0, len(winer_items)):\n",
    "#     if i % 2 == 0:\n",
    "#         s1 = winer_items[i]\n",
    "#         s2 = user_team\n",
    "#         sm = diff.SequenceMatcher(None, s1, s2)\n",
    "#         differance_ratio_1 += sm.ratio()\n",
    "#     if i % 2 != 0:\n",
    "#         s1 = winer_items[i]\n",
    "#         s2 = enemy_team\n",
    "#         sm = diff.SequenceMatcher(None, s1, s2)\n",
    "#     differance_ratio_2 += sm.ratio()\n",
    "# final_differance = format((((differance_ratio_1/4) + (differance_ratio_2/4))/2), \".2f\")\n",
    "# print(final_differance)\n"
   ]
  },
  {
   "cell_type": "code",
   "execution_count": 319,
   "metadata": {},
   "outputs": [
    {
     "name": "stdout",
     "output_type": "stream",
     "text": [
      "\n",
      "The following formation suggestions contain a group of winning teams and losing teams. Each winning team has a probability of winning greater than '75%' and contains the main champion, and vice versa, but relative to the losing team.\n",
      "\n",
      "- -  loser_team: ['Lulu', 'Aphelios', 'Ryze', 'XinZhao', 'Aatrox'] \n",
      "\n",
      "\n",
      "- -  loser_team: ['Maokai', 'Twitch', 'Yasuo', 'Nidalee', 'Vladimir'] \n",
      "\n",
      "\n",
      "@ suggestion number ( 1 )__________________________________________\n",
      "+ +  winner_team: ['Sona', 'Ashe', 'Kennen', 'Khazix', 'Malphite']\n",
      "- -  loser_team: ['Zilean', 'Vayne', 'Syndra', 'Viego', 'Sion'] \n",
      "\n",
      "\n",
      "@ suggestion number ( 2 )__________________________________________\n",
      "+ +  winner_team: ['Rakan', 'Ashe', 'Ekko', 'Shyvana', 'Sett']\n",
      "- -  loser_team: ['Zyra', 'Tristana', 'Leblanc', 'Khazix', 'Akali'] \n",
      "\n",
      "\n",
      "@ suggestion number ( 3 )__________________________________________\n",
      "+ +  winner_team: ['Maokai', 'Ashe', 'Anivia', 'Nidalee', 'Gangplank']\n",
      "- -  loser_team: ['Nautilus', 'LeeSin', 'Sylas', 'Kindred', 'Fiora'] \n",
      "\n",
      "\n",
      "@ suggestion number ( 4 )__________________________________________\n",
      "+ +  winner_team: ['Braum', 'Ashe', 'Katarina', 'Shaco', 'Volibear']\n"
     ]
    }
   ],
   "source": [
    "differance_ratio_1 = 0\n",
    "differance_ratio_2 = 0\n",
    "threshold = 0.75\n",
    "result_data = []\n",
    "for i in range(len(winer_items)-1):\n",
    "    s1 = winer_items[i]\n",
    "    s2 = user_team\n",
    "    s3 = enemy_team\n",
    "    if i % 2 == 0:\n",
    "        sm = diff.SequenceMatcher(None, s1, s2, s3)\n",
    "        differance_ratio_1 += sm.ratio()\n",
    "        if differance_ratio_1 > float(threshold):\n",
    "            result_data.insert(i, f'winner_team: {winer_items[i]}')\n",
    "    if i % 2 != 0:\n",
    "        sm = diff.SequenceMatcher(None, s1, s2, s3)\n",
    "        differance_ratio_2 += sm.ratio()\n",
    "        if differance_ratio_2 < float(threshold):\n",
    "            result_data.insert(i+1, f'loser_team: {winer_items[i]}')\n",
    "print(\"\\nThe following formation suggestions contain a group of winning teams and losing teams. Each winning team has a probability of winning greater than '75%' and contains the main champion, and vice versa, but relative to the losing team.\\n\")\n",
    "counter = 1\n",
    "for i in range(len(result_data)-1):\n",
    "    if 'winner_team:' in result_data[i]:\n",
    "        print(f\"@ suggestion number ( {counter} )__________________________________________\")\n",
    "        print(\"+ + \",result_data[i])\n",
    "        # print(\" $~/\\~$~/\\~$~/\\~$~/\\~$~/\\~$~/\\~$~/\\~$~/\\~$ \")\n",
    "        counter += 1\n",
    "    if 'loser_team:' in result_data[i]:\n",
    "        print(\"- - \",result_data[i], \"\\n\\n\")\n"
   ]
  }
 ],
 "metadata": {
  "interpreter": {
   "hash": "67c775015be63c26632402aedf6621c79fd65c74996675ad8ccea9fce9638be2"
  },
  "kernelspec": {
   "display_name": "Python 3.9.7 64-bit ('.venv': poetry)",
   "language": "python",
   "name": "python3"
  },
  "language_info": {
   "codemirror_mode": {
    "name": "ipython",
    "version": 3
   },
   "file_extension": ".py",
   "mimetype": "text/x-python",
   "name": "python",
   "nbconvert_exporter": "python",
   "pygments_lexer": "ipython3",
   "version": "3.9.7"
  },
  "orig_nbformat": 4
 },
 "nbformat": 4,
 "nbformat_minor": 2
}
