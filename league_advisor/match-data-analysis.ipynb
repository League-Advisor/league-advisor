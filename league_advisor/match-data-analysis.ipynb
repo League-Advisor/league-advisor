{
 "cells": [
  {
   "cell_type": "code",
   "execution_count": 58,
   "metadata": {},
   "outputs": [],
   "source": [
    "import pandas as pd\n",
    "import json\n",
    "from pandas.io.json import json_normalize\n",
    "import difflib as diff\n",
    "from collections import Counter\n"
   ]
  },
  {
   "cell_type": "code",
   "execution_count": 59,
   "metadata": {},
   "outputs": [
    {
     "name": "stderr",
     "output_type": "stream",
     "text": [
      "/tmp/ipykernel_659/1933815236.py:4: FutureWarning: pandas.io.json.json_normalize is deprecated, use pandas.json_normalize instead\n",
      "  df = json_normalize(data)\n"
     ]
    }
   ],
   "source": [
    "\n",
    "\n",
    "with open('string_assets/filtered_data_extra.json') as f:\n",
    "    data = json.load(f)\n",
    "\n",
    "df = json_normalize(data)\n",
    "\n",
    "df.to_csv('string_assets/match_data_analysis.csv', index=False)  \n",
    "\n"
   ]
  },
  {
   "cell_type": "code",
   "execution_count": 60,
   "metadata": {},
   "outputs": [],
   "source": [
    "cham = \"Ezreal\"\n",
    "list1 = [\"Nami\", \"Ezreal\", \"Syndra\", \"Nidalee\", \"Yone\"]\n",
    "\n",
    "champion = df[df.values == cham]\n",
    "# champion"
   ]
  },
  {
   "cell_type": "code",
   "execution_count": 61,
   "metadata": {},
   "outputs": [],
   "source": [
    "\n",
    "\n",
    "champ_col = ''\n",
    "df_for_winners = pd.DataFrame()\n",
    "for i in champion.columns:\n",
    "    newDf = champion.loc[lambda champion: champion[i] == cham]\n",
    "   \n",
    "    if(not newDf.empty):\n",
    "        champ_col=i \n",
    "        for (j,row) in  newDf.iterrows(): \n",
    "                if \"team1\" in champ_col and row['team1.win'] :\n",
    "                    df_for_winners = df_for_winners.append(row, ignore_index=True)\n",
    "                   \n",
    "                    \n",
    "                if \"team2\" in champ_col and row['team2.win'] :\n",
    "                    df_for_winners = df_for_winners.append(row, ignore_index=True)\n",
    "                 \n",
    "\n",
    "# df_for_winners   \n",
    "\n"
   ]
  },
  {
   "cell_type": "code",
   "execution_count": 62,
   "metadata": {},
   "outputs": [],
   "source": [
    "\n",
    "team_1_champions_winer = []\n",
    "team_1_enemy_champions = []\n",
    "team_2_champions_winer = []\n",
    "team_2_enemy_champions = []\n",
    "winer_items = []\n",
    "champion = cham\n",
    "for index, row in df_for_winners.iterrows():\n",
    "    team_1_champions_winer.append(row[\"team1.composition.champion1\"])\n",
    "    team_1_champions_winer.append(row[\"team1.composition.champion2\"])\n",
    "    team_1_champions_winer.append(row[\"team1.composition.champion3\"])\n",
    "    team_1_champions_winer.append(row[\"team1.composition.champion4\"])\n",
    "    team_1_champions_winer.append(row[\"team1.composition.champion5\"])\n",
    "\n",
    "    if row['team1.win'] == True and champion in team_1_champions_winer:\n",
    "        team_1_champions_winer = []\n",
    "        team_1_champions_winer.append(index)\n",
    "        team_1_champions_winer.append(row[\"team1.composition.champion1\"])\n",
    "        team_1_champions_winer.append(row[\"team1.composition.champion2\"])\n",
    "        team_1_champions_winer.append(row[\"team1.composition.champion3\"])\n",
    "        team_1_champions_winer.append(row[\"team1.composition.champion4\"])\n",
    "        team_1_champions_winer.append(row[\"team1.composition.champion5\"])\n",
    "        \n",
    "        winer_items.append(team_1_champions_winer)\n",
    "        team_1_champions_winer = []\n",
    "#/////////////////////////////////////////////////////////////////////////////#\n",
    "    team_2_champions_winer.append(row[\"team2.composition.champion6\"])\n",
    "    team_2_champions_winer.append(row[\"team2.composition.champion7\"])\n",
    "    team_2_champions_winer.append(row[\"team2.composition.champion8\"])\n",
    "    team_2_champions_winer.append(row[\"team2.composition.champion9\"])\n",
    "    team_2_champions_winer.append(row[\"team2.composition.champion10\"])\n",
    "\n",
    "    if row['team2.win'] == True and champion in team_2_champions_winer:\n",
    "        team_2_champions_winer = []\n",
    "        team_2_champions_winer.append(index)\n",
    "        team_2_champions_winer.append(row[\"team2.composition.champion6\"])\n",
    "        team_2_champions_winer.append(row[\"team2.composition.champion7\"])\n",
    "        team_2_champions_winer.append(row[\"team2.composition.champion8\"])\n",
    "        team_2_champions_winer.append(row[\"team2.composition.champion9\"])\n",
    "        team_2_champions_winer.append(row[\"team2.composition.champion10\"])\n",
    "\n",
    "        winer_items.append(team_2_champions_winer)\n",
    "        team_2_champions_winer = []\n"
   ]
  },
  {
   "cell_type": "code",
   "execution_count": 63,
   "metadata": {},
   "outputs": [
    {
     "name": "stdout",
     "output_type": "stream",
     "text": [
      "[[1055, 6632, 3070, 3133, 3158, 0, 3340]]\n"
     ]
    }
   ],
   "source": [
    "threshold = 0.75\n",
    "data_normalyzed_str = \"\"\n",
    "data_normalyzed_items = []\n",
    "for i in winer_items:\n",
    "    sm = diff.SequenceMatcher(None, i, list1)\n",
    "    ratio = sm.ratio()\n",
    "    if ratio > threshold:\n",
    "        idx = (i[0])\n",
    "        for index, row in df_for_winners.iterrows():\n",
    "            if index == idx:\n",
    "                col_name = row.iloc[row.values == cham]\n",
    "                col_name = col_name.to_string()\n",
    "                data_normalyzed_str = idx\n",
    "                data_normalyzed_items.append(data_normalyzed_str)\n",
    "                data_normalyzed_str = f\"{col_name}_items\".replace(f\"    {cham}\", \"\")\n",
    "                data_normalyzed_items.append(data_normalyzed_str)\n",
    "\n",
    "counter = 0\n",
    "dif_itm = []\n",
    "for i in range( int((len(data_normalyzed_items)-1)/2)+1):\n",
    "    row_ = int(data_normalyzed_items[counter])\n",
    "    col_ = data_normalyzed_items[counter + 1]\n",
    "    counter += 2\n",
    "    dif_itm.append(df_for_winners[col_].iloc[row_])\n",
    "    \n",
    "# print(df_for_winners)\n",
    "print(dif_itm)\n"
   ]
  },
  {
   "cell_type": "code",
   "execution_count": 64,
   "metadata": {},
   "outputs": [
    {
     "name": "stdout",
     "output_type": "stream",
     "text": [
      "{'Tear of the Goddess', \"Doran's Blade\", 'Divine Sunderer', 'Ionian Boots of Lucidity', 'Stealth Ward', \"Caulfield's Warhammer\"}\n"
     ]
    }
   ],
   "source": [
    "# print(dif_itm)\n",
    "analy_itm_names = []\n",
    "f = open(\"string_assets/items.json\")\n",
    "data = json.load(f)\n",
    "data = data[\"data\"]\n",
    "for item in dif_itm:\n",
    "    for i in item:\n",
    "        if i != 0:\n",
    "            analy_itm_names.append(data[f\"{i}\"][\"name\"])\n",
    "    \n",
    "print(set(analy_itm_names))\n"
   ]
  }
 ],
 "metadata": {
  "interpreter": {
   "hash": "000f8d60a6afd19b68f436ed4640d40f5cb6716170b2bd645832759d075f8f46"
  },
  "kernelspec": {
   "display_name": "Python 3.9.5 64-bit ('.venv': poetry)",
   "language": "python",
   "name": "python3"
  },
  "language_info": {
   "codemirror_mode": {
    "name": "ipython",
    "version": 3
   },
   "file_extension": ".py",
   "mimetype": "text/x-python",
   "name": "python",
   "nbconvert_exporter": "python",
   "pygments_lexer": "ipython3",
   "version": "3.9.7"
  },
  "orig_nbformat": 4
 },
 "nbformat": 4,
 "nbformat_minor": 2
}
